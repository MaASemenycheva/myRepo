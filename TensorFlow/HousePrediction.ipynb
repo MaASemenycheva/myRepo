{
 "cells": [
  {
   "cell_type": "code",
   "execution_count": 1,
   "metadata": {},
   "outputs": [
    {
     "name": "stderr",
     "output_type": "stream",
     "text": [
      "C:\\Users\\bijith.komalan\\AppData\\Local\\conda\\conda\\envs\\py35\\lib\\site-packages\\h5py\\__init__.py:36: FutureWarning: Conversion of the second argument of issubdtype from `float` to `np.floating` is deprecated. In future, it will be treated as `np.float64 == np.dtype(float).type`.\n",
      "  from ._conv import register_converters as _register_converters\n"
     ]
    }
   ],
   "source": [
    "import tensorflow as tf\n",
    "import numpy as np\n",
    "import math\n",
    "import matplotlib.pyplot as plt\n",
    "import matplotlib.animation as animation"
   ]
  },
  {
   "cell_type": "markdown",
   "metadata": {},
   "source": [
    "Generating house sizes with 1000 to 3500 sq.ft"
   ]
  },
  {
   "cell_type": "code",
   "execution_count": 2,
   "metadata": {},
   "outputs": [],
   "source": [
    "num_houses = 160\n",
    "\n",
    "np.random.seed(42)\n",
    "\n",
    "house_size = np.random.randint(low=1000,high=3500,size=num_houses)"
   ]
  },
  {
   "cell_type": "code",
   "execution_count": 3,
   "metadata": {},
   "outputs": [
    {
     "data": {
      "text/plain": [
       "array([1860, 2294, 2130, 2095, 2638, 3169, 1466, 2238, 1330, 2482, 3135,\n",
       "       1130, 2685, 1769, 3391, 2515, 3433, 2215, 1955, 3324, 2184, 1459,\n",
       "       1021, 3300, 1747, 1474, 2082, 3047, 1975, 2806, 1189, 1562, 2899,\n",
       "       2267, 2528, 1646, 3068, 3214, 2297, 3435, 1600, 3363, 3061, 1241,\n",
       "       3041, 2363, 3139, 2390, 2478, 1775, 1034, 3253, 2955, 2585, 2021,\n",
       "       2129, 2500, 1702, 3449, 2579, 1161, 1201, 2981, 1995, 3317, 1815,\n",
       "       1455, 2275, 2016, 3343, 1337, 1878, 2076, 1791, 3264, 1763, 3235,\n",
       "       1379, 1492, 2180, 3062, 1064, 2367, 2152, 3027, 2495, 2162, 2522,\n",
       "       1391, 2698, 1418, 3336, 1378, 2796, 3278, 3088, 3182, 1200, 2863,\n",
       "       1779, 1502, 3454, 2751, 1804, 3146, 2895, 2570, 1960, 2485, 2028,\n",
       "       1502, 1397, 1870, 1392, 1206, 2038, 2881, 2484, 1863, 1563, 2020,\n",
       "       1095, 2923, 2757, 3278, 2678, 1540, 2059, 2183, 2722, 2819, 2597,\n",
       "       1795, 2051, 2643, 2363, 2981, 2354, 2663, 2529, 3038, 2496, 3237,\n",
       "       2408, 2400, 2306, 1972, 2768, 2282, 1709, 2479, 2434, 1648, 1317,\n",
       "       2257, 1683, 1663, 2998, 2631, 2495])"
      ]
     },
     "execution_count": 3,
     "metadata": {},
     "output_type": "execute_result"
    }
   ],
   "source": [
    "house_size"
   ]
  },
  {
   "cell_type": "markdown",
   "metadata": {},
   "source": [
    "Generating House Prices"
   ]
  },
  {
   "cell_type": "code",
   "execution_count": 4,
   "metadata": {},
   "outputs": [],
   "source": [
    "np.random.seed(42)\n",
    "\n",
    "house_prices = house_size * 100.0 + np.random.randint(low=20000,high=70000,size=num_houses)"
   ]
  },
  {
   "cell_type": "code",
   "execution_count": 5,
   "metadata": {},
   "outputs": [
    {
     "data": {
      "text/plain": [
       "array([221795., 250260., 271158., 274232., 295084., 343165., 183450.,\n",
       "       280994., 174962., 315391., 377631., 149023., 329590., 198585.,\n",
       "       359869., 273933., 368611., 279319., 254688., 369968., 258169.,\n",
       "       194593., 128496., 377480., 236134., 193058., 247142., 343131.,\n",
       "       220247., 300789., 158018., 211973., 311799., 247967., 304351.,\n",
       "       195994., 330356., 345290., 291306., 394240., 194502., 378077.,\n",
       "       336727., 152892., 367423., 299321., 342333., 302001., 278816.,\n",
       "       221397., 126012., 368783., 364055., 295659., 267074., 273894.,\n",
       "       284541., 226120., 391431., 279485., 140043., 164039., 337557.,\n",
       "       220521., 363353., 245073., 178917., 288257., 231292., 400058.,\n",
       "       160573., 213475., 227761., 236165., 372957., 230063., 376106.,\n",
       "       169434., 198327., 278397., 352051., 127416., 280953., 259476.,\n",
       "       345947., 293800., 244729., 289462., 168368., 311071., 173985.,\n",
       "       374843., 196899., 308171., 387776., 366844., 387416., 188984.,\n",
       "       347074., 200468., 172227., 368095., 343290., 205658., 356602.,\n",
       "       349004., 310159., 229986., 281166., 261460., 173761., 186554.,\n",
       "       245952., 181862., 148992., 254335., 321167., 316433., 229899.,\n",
       "       211522., 233837., 143539., 343118., 314815., 358765., 312338.,\n",
       "       216530., 230956., 270782., 339916., 310010., 293473., 226766.,\n",
       "       242512., 317570., 263210., 363553., 280846., 286506., 294418.,\n",
       "       346161., 293019., 392402., 302323., 305151., 273003., 235341.,\n",
       "       311620., 288542., 197274., 269578., 297227., 200998., 161614.,\n",
       "       273590., 210599., 229885., 363489., 325657., 318580.])"
      ]
     },
     "execution_count": 5,
     "metadata": {},
     "output_type": "execute_result"
    }
   ],
   "source": [
    "house_prices"
   ]
  },
  {
   "cell_type": "markdown",
   "metadata": {},
   "source": [
    "Plotting the data set"
   ]
  },
  {
   "cell_type": "code",
   "execution_count": 7,
   "metadata": {},
   "outputs": [
    {
     "data": {
      "image/png": "[encoded data removed]",
      "text/plain": [
       "<Figure size 432x288 with 1 Axes>"
      ]
     },
     "metadata": {},
     "output_type": "display_data"
    }
   ],
   "source": [
    "plt.plot(house_size,house_prices,\"bx\")\n",
    "plt.xlabel(\"Size\")\n",
    "plt.ylabel(\"Prices\")\n",
    "plt.show()"
   ]
  },
  {
   "cell_type": "markdown",
   "metadata": {},
   "source": [
    "function to normalize the data "
   ]
  },
  {
   "cell_type": "code",
   "execution_count": 8,
   "metadata": {},
   "outputs": [],
   "source": [
    "def mormalize(arr):\n",
    "    return (arr-arr.mean())/arr.std()"
   ]
  },
  {
   "cell_type": "code",
   "execution_count": 9,
   "metadata": {},
   "outputs": [],
   "source": [
    "num_train_samples = math.floor(num_houses * 0.7)"
   ]
  },
  {
   "cell_type": "code",
   "execution_count": null,
   "metadata": {},
   "outputs": [],
   "source": []
  }
 ],
 "metadata": {
  "kernelspec": {
   "display_name": "Python 3",
   "language": "python",
   "name": "python3"
  },
  "language_info": {
   "codemirror_mode": {
    "name": "ipython",
    "version": 3
   },
   "file_extension": ".py",
   "mimetype": "text/x-python",
   "name": "python",
   "nbconvert_exporter": "python",
   "pygments_lexer": "ipython3",
   "version": "3.5.4"
  }
 },
 "nbformat": 4,
 "nbformat_minor": 2
}
